{
 "cells": [
  {
   "cell_type": "code",
   "execution_count": 109,
   "metadata": {},
   "outputs": [],
   "source": [
    "import json\n",
    "import os\n",
    "import requests\n",
    "import pandas as pd\n",
    "from datetime import datetime\n",
    "from pathlib import Path"
   ]
  },
  {
   "cell_type": "code",
   "execution_count": null,
   "metadata": {},
   "outputs": [],
   "source": [
    "GOOGLE_MAPS_API_KEY = os.environ.get(\"GOOGLE_MAPS_API_KEY\")\n",
    "if not GOOGLE_MAPS_API_KEY:\n",
    "    raise ValueError(\"GOOGLE_MAPS_API_KEY environment variable not set\")"
   ]
  },
  {
   "attachments": {},
   "cell_type": "markdown",
   "metadata": {},
   "source": [
    "## Extract the visited places IDs from Google History data"
   ]
  },
  {
   "cell_type": "code",
   "execution_count": 66,
   "metadata": {},
   "outputs": [],
   "source": [
    "GOOGLE_TAKEOUT_DATA_FILE = Path(\"Timeline.json\")\n",
    "with open(GOOGLE_TAKEOUT_DATA_FILE, \"r\") as f:\n",
    "    data: dict = json.load(f)\n",
    "    semantic_location_history: list[dict] = data[\"semanticSegments\"]"
   ]
  },
  {
   "cell_type": "code",
   "execution_count": null,
   "metadata": {},
   "outputs": [],
   "source": [
    "unique_visited_places_ids = set()\n",
    "\n",
    "for d in semantic_location_history:\n",
    "    if d.get(\"visit\"):\n",
    "        if d[\"visit\"].get(\"topCandidate\").get(\"placeId\"):\n",
    "            unique_visited_places_ids.add(d[\"visit\"][\"topCandidate\"][\"placeId\"])\n",
    "\n",
    "print(\"Number of all-time unique places visited:\")\n",
    "print(len(unique_visited_places_ids))"
   ]
  },
  {
   "cell_type": "markdown",
   "metadata": {},
   "source": [
    "## Get places names file by requesting the Google Places API"
   ]
  },
  {
   "cell_type": "code",
   "execution_count": null,
   "metadata": {},
   "outputs": [],
   "source": [
    "places_names = {}\n",
    "\n",
    "# Load existing data if present\n",
    "try:\n",
    "    with open(\"corresponding_place_names.json\", \"r\") as f:\n",
    "        places_names = json.load(f)\n",
    "except Exception:\n",
    "    places_names = {}\n",
    "\n",
    "for place_id in unique_visited_places_ids:\n",
    "    if place_id not in places_names:\n",
    "        url = f\"https://maps.googleapis.com/maps/api/place/details/json?place_id={place_id}&key={GOOGLE_MAPS_API_KEY}\"\n",
    "        response = requests.get(url)\n",
    "        data = response.json()\n",
    "        status = data.get(\"status\")\n",
    "        # See https://developers.google.com/maps/reporting-and-monitoring/reporting#response-code-graphs\n",
    "        if status == \"NOT_FOUND\":\n",
    "            places_names[place_id] = None\n",
    "        elif status == \"INVALID_REQUEST\":\n",
    "            print(f\"Invalid place_id {place_id}, skipping.\")\n",
    "            places_names[place_id] = None\n",
    "        elif status == \"OK\":\n",
    "            place_name = data.get(\"result\", {}).get(\"name\")\n",
    "            # TODO: we should also get the address, the short name and the long name\n",
    "            places_names[place_id] = place_name\n",
    "        else:\n",
    "            print(f\"Error for place_id {place_id}: {status}\")\n",
    "            print(\"Full response:\", data)\n",
    "            break  # Stop the loop if there's an error (e.g., quota exceeded)\n",
    "        # Write after each addition (less efficient, but safer as a long job)\n",
    "        with open(\"corresponding_place_names.json\", \"w\") as f:\n",
    "            json.dump(places_names, f, indent=2, ensure_ascii=False)\n"
   ]
  },
  {
   "cell_type": "markdown",
   "metadata": {},
   "source": [
    "## Build the conbini visits list"
   ]
  },
  {
   "cell_type": "code",
   "execution_count": 99,
   "metadata": {},
   "outputs": [],
   "source": [
    "SEARCH_STRINGS = [\"7-eleven\", \"familymart\", \"lawson\", \"convenience\"]\n",
    "\n",
    "conbinis_visits: list[dict] = []\n",
    "\n",
    "with open(GOOGLE_TAKEOUT_DATA_FILE, \"r\") as f:\n",
    "    data: dict = json.load(f)\n",
    "    semantic_location_history: list[dict] = data[\"semanticSegments\"]\n",
    "    for d in semantic_location_history:\n",
    "        place_id: str | None = d.get(\"visit\", {}).get(\"topCandidate\", {}).get(\"placeId\")\n",
    "        if place_id and places_names.get(place_id) is not None:\n",
    "            for s in SEARCH_STRINGS:\n",
    "                if s.lower() in places_names[place_id].lower():\n",
    "                    conbini_visit: dict = d\n",
    "                    conbini_visit[\"visit\"][\"topCandidate\"][\"placeName\"] = places_names[\n",
    "                        place_id\n",
    "                    ]\n",
    "                    conbinis_visits.append(conbini_visit)"
   ]
  },
  {
   "attachments": {},
   "cell_type": "markdown",
   "metadata": {},
   "source": [
    "### Save as JSON file"
   ]
  },
  {
   "cell_type": "code",
   "execution_count": 100,
   "metadata": {},
   "outputs": [],
   "source": [
    "now: str = datetime.now().strftime(\"%Y-%m-%d_%H-%M-%S\")\n",
    "filename: str = f\"{now}_conbinis-visits.json\"\n",
    "\n",
    "with open(filename, \"w\") as f:\n",
    "    json.dump(conbinis_visits, f, indent=2, ensure_ascii=False)"
   ]
  },
  {
   "attachments": {},
   "cell_type": "markdown",
   "metadata": {},
   "source": [
    "## Use the JSON to analyze data"
   ]
  },
  {
   "attachments": {},
   "cell_type": "markdown",
   "metadata": {},
   "source": [
    "### Load the JSON file as Pandas dataframe"
   ]
  },
  {
   "cell_type": "code",
   "execution_count": null,
   "metadata": {},
   "outputs": [],
   "source": [
    "with open(filename, \"r\") as f:\n",
    "    data = json.load(f)\n",
    "\n",
    "df = pd.json_normalize(data)\n",
    "df[\"startDatetime\"] = pd.to_datetime(df[\"startTime\"])\n",
    "df['endDatetime'] = pd.to_datetime(df['endTime'])\n",
    "df.info()"
   ]
  },
  {
   "attachments": {},
   "cell_type": "markdown",
   "metadata": {},
   "source": [
    "### Number of conbinis visits"
   ]
  },
  {
   "cell_type": "code",
   "execution_count": null,
   "metadata": {},
   "outputs": [],
   "source": [
    "len(df)"
   ]
  },
  {
   "attachments": {},
   "cell_type": "markdown",
   "metadata": {},
   "source": [
    "### Number of unique conbinis visited"
   ]
  },
  {
   "cell_type": "code",
   "execution_count": null,
   "metadata": {},
   "outputs": [],
   "source": [
    "df['visit.topCandidate.placeId'].nunique()"
   ]
  },
  {
   "attachments": {},
   "cell_type": "markdown",
   "metadata": {},
   "source": [
    "### Earliest conbini visit"
   ]
  },
  {
   "cell_type": "code",
   "execution_count": null,
   "metadata": {},
   "outputs": [],
   "source": [
    "df.iloc[df[\"startDatetime\"].idxmin()][[\"visit.topCandidate.placeName\", \"startDatetime\"]]"
   ]
  },
  {
   "attachments": {},
   "cell_type": "markdown",
   "metadata": {},
   "source": [
    "### Top 3 most visited conbinis"
   ]
  },
  {
   "cell_type": "code",
   "execution_count": null,
   "metadata": {},
   "outputs": [],
   "source": [
    "df2 = df[\n",
    "    [\"visit.topCandidate.placeId\", \"visit.topCandidate.placeName\"]\n",
    "].copy()\n",
    "df2 = df2.drop_duplicates(subset=[\"visit.topCandidate.placeId\"], keep=\"first\")\n",
    "df2[\"visitsNb\"] = df2[\"visit.topCandidate.placeId\"].map(\n",
    "    df[\"visit.topCandidate.placeId\"].value_counts()\n",
    ")\n",
    "df2.sort_values(by='visitsNb', ascending=False, inplace = True)\n",
    "\n",
    "df2[:3][[\"visit.topCandidate.placeName\", \"visitsNb\"]]"
   ]
  }
 ],
 "metadata": {
  "kernelspec": {
   "display_name": ".venv",
   "language": "python",
   "name": "python3"
  },
  "language_info": {
   "codemirror_mode": {
    "name": "ipython",
    "version": 3
   },
   "file_extension": ".py",
   "mimetype": "text/x-python",
   "name": "python",
   "nbconvert_exporter": "python",
   "pygments_lexer": "ipython3",
   "version": "3.13.3"
  },
  "orig_nbformat": 4
 },
 "nbformat": 4,
 "nbformat_minor": 2
}
