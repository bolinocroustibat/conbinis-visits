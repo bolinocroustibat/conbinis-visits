{
 "cells": [
  {
   "cell_type": "code",
   "execution_count": null,
   "metadata": {},
   "outputs": [],
   "source": [
    "!pip install pandas requests"
   ]
  },
  {
   "cell_type": "code",
   "execution_count": 2,
   "metadata": {},
   "outputs": [],
   "source": [
    "import json\n",
    "import os\n",
    "import requests\n",
    "import pandas as pd\n",
    "from datetime import datetime\n",
    "from pathlib import Path"
   ]
  },
  {
   "cell_type": "code",
   "execution_count": null,
   "metadata": {},
   "outputs": [],
   "source": [
    "GOOGLE_MAPS_API_KEY = os.environ.get(\"GOOGLE_MAPS_API_KEY\")\n",
    "if not GOOGLE_MAPS_API_KEY:\n",
    "    raise ValueError(\"GOOGLE_MAPS_API_KEY environment variable not set\")"
   ]
  },
  {
   "attachments": {},
   "cell_type": "markdown",
   "metadata": {},
   "source": [
    "## Extract the visited places IDs from Google History data"
   ]
  },
  {
   "cell_type": "code",
   "execution_count": null,
   "metadata": {},
   "outputs": [],
   "source": [
    "GOOGLE_TAKEOUT_DATA_FILE = Path(\n",
    "    \"/Users/bolino/Library/CloudStorage/GoogleDrive-me@adriencarpentier.com/My Drive/Timeline.json\"\n",
    ")\n",
    "with open(GOOGLE_TAKEOUT_DATA_FILE, \"r\") as f:\n",
    "    data: dict = json.load(f)\n",
    "    semantic_location_history: list[dict] = data[\"semanticSegments\"]"
   ]
  },
  {
   "cell_type": "code",
   "execution_count": null,
   "metadata": {},
   "outputs": [],
   "source": [
    "unique_visited_places_ids = set()\n",
    "\n",
    "for d in semantic_location_history:\n",
    "    if d.get(\"visit\"):\n",
    "        if d[\"visit\"].get(\"topCandidate\").get(\"placeId\"):\n",
    "            unique_visited_places_ids.add(d[\"visit\"][\"topCandidate\"][\"placeId\"])\n",
    "\n",
    "print(\"Number of all-time unique places visited:\")\n",
    "print(len(unique_visited_places_ids))"
   ]
  },
  {
   "cell_type": "markdown",
   "metadata": {},
   "source": [
    "## Get places names file by requesting the Google Places API"
   ]
  },
  {
   "cell_type": "code",
   "execution_count": 14,
   "metadata": {},
   "outputs": [],
   "source": [
    "places_details = {}\n",
    "\n",
    "# Load existing data if present\n",
    "try:\n",
    "    with open(\"places_details.json\", \"r\") as f:\n",
    "        places_details = json.load(f)\n",
    "except Exception:\n",
    "    places_details = {}\n",
    "\n",
    "for place_id in unique_visited_places_ids:\n",
    "    if place_id not in places_details:\n",
    "        url = f\"https://maps.googleapis.com/maps/api/place/details/json?place_id={place_id}&key={GOOGLE_MAPS_API_KEY}\"\n",
    "        response = requests.get(url)\n",
    "        data = response.json()\n",
    "        status = data.get(\"status\")\n",
    "        # See https://developers.google.com/maps/reporting-and-monitoring/reporting#response-code-graphs\n",
    "        if status == \"NOT_FOUND\":\n",
    "            places_details[place_id] = None\n",
    "        elif status == \"INVALID_REQUEST\":\n",
    "            print(f\"Invalid place_id {place_id}, skipping.\")\n",
    "            places_details[place_id] = None\n",
    "        elif status == \"OK\":\n",
    "            result = data.get(\"result\", {})\n",
    "\n",
    "            # Main place name\n",
    "            place_name = result.get(\"name\")\n",
    "\n",
    "            # Formatted address (human-readable)\n",
    "            formatted_address = result.get(\"formatted_address\")\n",
    "\n",
    "            # Extract long_name and short_name for key components if present\n",
    "            address_components = result.get(\"address_components\", [])\n",
    "            components = {}\n",
    "            for component in address_components:\n",
    "                for component_type in component.get(\"types\", []):\n",
    "                    if component_type not in components:\n",
    "                        components[component_type] = {\n",
    "                            \"long_name\": component.get(\"long_name\"),\n",
    "                            \"short_name\": component.get(\"short_name\"),\n",
    "                        }\n",
    "\n",
    "            # Store all in a structured dict\n",
    "            places_details[place_id] = {\n",
    "                \"name\": place_name,\n",
    "                \"formattedAddress\": formatted_address,\n",
    "                \"addressComponents\": components,\n",
    "            }\n",
    "        else:\n",
    "            print(f\"Error for place_id {place_id}: {status}\")\n",
    "            print(\"Full response:\", data)\n",
    "            break  # Stop the loop if there's an error (e.g., quota exceeded)\n",
    "\n",
    "        # Write after each addition (less efficient, but safer as a long job)\n",
    "        with open(\"places_details.json\", \"w\") as f:\n",
    "            json.dump(places_details, f, indent=2, ensure_ascii=False)"
   ]
  },
  {
   "cell_type": "markdown",
   "metadata": {},
   "source": [
    "## Build the conbini visits list"
   ]
  },
  {
   "cell_type": "code",
   "execution_count": 138,
   "metadata": {},
   "outputs": [],
   "source": [
    "SEARCH_STRINGS = [\"7-eleven\", \"familymart\", \"lawson\", \"convenience\", \"seven-eleven\", \"7 eleven\", \"seven eleven\", \"7-11\", \"7-11\", \"7 eleven\", \"seven eleven\", \"7-11\", \"ministop\"]\n",
    "\n",
    "conbinis_visits: list[dict] = []\n",
    "\n",
    "with open(GOOGLE_TAKEOUT_DATA_FILE, \"r\") as f:\n",
    "    data: dict = json.load(f)\n",
    "    semantic_location_history: list[dict] = data[\"semanticSegments\"]\n",
    "    for d in semantic_location_history:\n",
    "        place_id: str | None = d.get(\"visit\", {}).get(\"topCandidate\", {}).get(\"placeId\")\n",
    "        if place_id and places_details.get(place_id) is not None:\n",
    "            place_name: str = places_details[place_id].get(\"name\", \"\")\n",
    "            place_address: str = places_details[place_id].get(\"formatted_address\", \"\")\n",
    "            for s in SEARCH_STRINGS:\n",
    "                if s.lower() in place_name.lower():\n",
    "                    conbini_visit: dict = d\n",
    "                    conbini_visit[\"visit\"][\"topCandidate\"][\"placeName\"] = place_name\n",
    "                    conbini_visit[\"visit\"][\"topCandidate\"][\"placeAddress\"] = (\n",
    "                        place_address\n",
    "                    )\n",
    "                    conbinis_visits.append(conbini_visit)\n",
    "                    break  # Optional: stop checking other strings if matched"
   ]
  },
  {
   "cell_type": "markdown",
   "metadata": {},
   "source": [
    "### Save as JSON file"
   ]
  },
  {
   "cell_type": "code",
   "execution_count": null,
   "metadata": {},
   "outputs": [],
   "source": [
    "now: str = datetime.now().strftime(\"%Y-%m-%d_%H-%M-%S\")\n",
    "filename: str = f\"{now}_conbinis-visits.json\"\n",
    "\n",
    "with open(filename, \"w\") as f:\n",
    "    json.dump(conbinis_visits, f, indent=2, ensure_ascii=False)"
   ]
  },
  {
   "cell_type": "markdown",
   "metadata": {},
   "source": [
    "## Build the specific place visits list"
   ]
  },
  {
   "cell_type": "code",
   "execution_count": 39,
   "metadata": {},
   "outputs": [],
   "source": [
    "# Put the placeId of a specific place you want to count how many times you've bin\n",
    "SPECIFIC_PLACE_ID = \"ChIJVVVyN2DzGGARHqP7hMzXU4w\""
   ]
  },
  {
   "cell_type": "code",
   "execution_count": 40,
   "metadata": {},
   "outputs": [],
   "source": [
    "tengu_shokudo_visits: list[dict] = []\n",
    "\n",
    "with open(GOOGLE_TAKEOUT_DATA_FILE, \"r\") as f:\n",
    "    data: dict = json.load(f)\n",
    "    semantic_location_history: list[dict] = data[\"semanticSegments\"]\n",
    "    for d in semantic_location_history:\n",
    "        place_id: str | None = d.get(\"visit\", {}).get(\"topCandidate\", {}).get(\"placeId\")\n",
    "        if place_id and place_id == SPECIFIC_PLACE_ID:\n",
    "            tengu_shokudo_visit: dict = d\n",
    "            tengu_shokudo_visit[\"visit\"][\"topCandidate\"][\"placeName\"] = places_details[place_id].get(\"name\", \"\")\n",
    "            tengu_shokudo_visit[\"visit\"][\"topCandidate\"][\"placeAddress\"] = places_details[place_id].get(\"formatted_address\", \"\")\n",
    "            tengu_shokudo_visits.append(tengu_shokudo_visit)"
   ]
  },
  {
   "cell_type": "code",
   "execution_count": 22,
   "metadata": {},
   "outputs": [],
   "source": [
    "now: str = datetime.now().strftime(\"%Y-%m-%d_%H-%M-%S\")\n",
    "filename: str = f\"{now}_tengu-shokudo-visits.json\"\n",
    "\n",
    "with open(filename, \"w\") as f:\n",
    "    json.dump(tengu_shokudo_visits, f, indent=2, ensure_ascii=False)"
   ]
  },
  {
   "attachments": {},
   "cell_type": "markdown",
   "metadata": {},
   "source": [
    "## Use the JSON to analyze data"
   ]
  },
  {
   "attachments": {},
   "cell_type": "markdown",
   "metadata": {},
   "source": [
    "### Load the JSON file as Pandas dataframe"
   ]
  },
  {
   "cell_type": "code",
   "execution_count": null,
   "metadata": {},
   "outputs": [],
   "source": [
    "with open(filename, \"r\") as f:\n",
    "    data: list[dict] = json.load(f)\n",
    "\n",
    "df = pd.json_normalize(data)\n",
    "df[\"startDatetime\"] = pd.to_datetime(df[\"startTime\"])\n",
    "df['endDatetime'] = pd.to_datetime(df['endTime'])\n",
    "df.info()"
   ]
  },
  {
   "attachments": {},
   "cell_type": "markdown",
   "metadata": {},
   "source": [
    "### Number of conbinis visits"
   ]
  },
  {
   "cell_type": "code",
   "execution_count": null,
   "metadata": {},
   "outputs": [],
   "source": [
    "len(df)"
   ]
  },
  {
   "attachments": {},
   "cell_type": "markdown",
   "metadata": {},
   "source": [
    "### Number of unique conbinis visited"
   ]
  },
  {
   "cell_type": "code",
   "execution_count": null,
   "metadata": {},
   "outputs": [],
   "source": [
    "df['visit.topCandidate.placeId'].nunique()"
   ]
  },
  {
   "attachments": {},
   "cell_type": "markdown",
   "metadata": {},
   "source": [
    "### Earliest conbini visit"
   ]
  },
  {
   "cell_type": "code",
   "execution_count": null,
   "metadata": {},
   "outputs": [],
   "source": [
    "df.iloc[df[\"startDatetime\"].idxmin()][\n",
    "    [\"visit.topCandidate.placeName\", \"visit.topCandidate.placeAddress\", \"startDatetime\"]\n",
    "]"
   ]
  },
  {
   "attachments": {},
   "cell_type": "markdown",
   "metadata": {},
   "source": [
    "### Top 3 most visited conbinis"
   ]
  },
  {
   "cell_type": "code",
   "execution_count": null,
   "metadata": {},
   "outputs": [],
   "source": [
    "df2 = df[\n",
    "    [\n",
    "        \"visit.topCandidate.placeId\",\n",
    "        \"visit.topCandidate.placeName\",\n",
    "        \"visit.topCandidate.placeAddress\",\n",
    "    ]\n",
    "].copy()\n",
    "df2 = df2.drop_duplicates(subset=[\"visit.topCandidate.placeId\"], keep=\"first\")\n",
    "df2[\"visitsNb\"] = df2[\"visit.topCandidate.placeId\"].map(\n",
    "    df[\"visit.topCandidate.placeId\"].value_counts()\n",
    ")\n",
    "df2.sort_values(by='visitsNb', ascending=False, inplace = True)\n",
    "\n",
    "df2[:3][[\"visit.topCandidate.placeName\", \"visit.topCandidate.placeAddress\", \"visitsNb\"]]"
   ]
  },
  {
   "cell_type": "markdown",
   "metadata": {},
   "source": [
    "### Longest visits"
   ]
  },
  {
   "cell_type": "code",
   "execution_count": null,
   "metadata": {},
   "outputs": [],
   "source": [
    "# Calculate visit duration\n",
    "df[\"visitDuration\"] = df[\"endDatetime\"] - df[\"startDatetime\"]\n",
    "\n",
    "# Get the 3 longest visits\n",
    "longest_visits = df.nlargest(3, \"visitDuration\")[\n",
    "    [\"startDatetime\", \"endDatetime\", \"visitDuration\"]\n",
    "]\n",
    "\n",
    "# Display nicely by accessing the same rows in df\n",
    "df.loc[\n",
    "        longest_visits.index,\n",
    "        [\n",
    "            \"startDatetime\",\n",
    "            \"endDatetime\",\n",
    "            \"visitDuration\",\n",
    "        ],\n",
    "    ]\n",
    "\n"
   ]
  }
 ],
 "metadata": {
  "kernelspec": {
   "display_name": ".venv",
   "language": "python",
   "name": "python3"
  },
  "language_info": {
   "codemirror_mode": {
    "name": "ipython",
    "version": 3
   },
   "file_extension": ".py",
   "mimetype": "text/x-python",
   "name": "python",
   "nbconvert_exporter": "python",
   "pygments_lexer": "ipython3",
   "version": "3.13.3"
  },
  "orig_nbformat": 4
 },
 "nbformat": 4,
 "nbformat_minor": 2
}
